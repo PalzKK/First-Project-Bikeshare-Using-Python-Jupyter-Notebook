{
 "cells": [
  {
   "cell_type": "code",
   "execution_count": 1008,
   "id": "9df34d28",
   "metadata": {},
   "outputs": [],
   "source": [
    "import time\n",
    "import pandas as pd\n",
    "import numpy as np\n",
    "\n",
    "CITY_DATA = { 'chicago': 'chicago.csv',\n",
    "              'new york city': 'new_york_city.csv',\n",
    "              'washington': 'washington.csv' }\n",
    "\n",
    "MONTHS = ['january','february','march','april','may','june','all']\n",
    "DAYS = ['monday', 'tuesday', 'wednesday', 'thursday', 'friday', 'saturday', 'sunday','all']\n",
    "CITIES = list(CITY_DATA.keys())\n",
    "\n",
    "\n",
    "\n",
    "# get user input for city (chicago, new york city, washington). HINT: Use a while loop to handle invalid inputs\n",
    "#def get_filters():\n",
    "# get user input for month (all, january, february, ... , june)\n",
    "# get user input for day of week (all, monday, tuesday, ... sunday)\n",
    "\n"
   ]
  },
  {
   "cell_type": "code",
   "execution_count": 1009,
   "id": "29c1f57d",
   "metadata": {
    "scrolled": true
   },
   "outputs": [
    {
     "name": "stdout",
     "output_type": "stream",
     "text": [
      "----------------------------------------\n"
     ]
    }
   ],
   "source": [
    "def get_filters():\n",
    "    print(\"Hello! Let\\'s explore some US Bikeshare data!'\")\n",
    "    \n",
    "\n",
    "    #CITIES = list(CITY_DATA.keys())\n",
    "\n",
    "    city=None\n",
    "    while city!=CITIES:\n",
    "        city=input(f\"What city data would you like to explore?\\n Select one from the {CITIES}. \").lower()\n",
    "        if city in CITIES:\n",
    "            break\n",
    "        \n",
    "        print(\"Umm... Looks like you entered the wrong city. Please choose from the list. \")\n",
    "    \n",
    "        city=None\n",
    "        \n",
    "        \n",
    "        \n",
    "    month=None\n",
    "    while month!=MONTHS:\n",
    "        month=input(f\"Ok! Do you want to see the data for all the months? Or \\n Select One from {MONTHS}. \").lower()\n",
    "        if month in MONTHS:\n",
    "            break\n",
    "            \n",
    "                \n",
    "           \n",
    "        print(\"Uh oh! I do not have a data to share for that month. Please select a month or option of \\'all\\' from the list. \")\n",
    "        month=None\n",
    "\n",
    "        \n",
    "    day=None\n",
    "    while day!=DAYS:\n",
    "        day=input(f\"Awesome! Now let\\'s pick a day you want to check out the data for?\\n Select One from {DAYS}.\").lower()\n",
    "        if day in DAYS:\n",
    "            break\n",
    "                \n",
    "        print(\"That seems to be incorrect. Please select again.\")\n",
    "        day=None          \n",
    "\n",
    "            \n",
    "    return city, month, day\n",
    "            \n",
    "            \n",
    "    \n",
    "print('-'*40)\n",
    "        \n",
    "    "
   ]
  },
  {
   "cell_type": "code",
   "execution_count": 1010,
   "id": "302f571a",
   "metadata": {
    "scrolled": true
   },
   "outputs": [
    {
     "name": "stdout",
     "output_type": "stream",
     "text": [
      "Hello! Let's explore some US Bikeshare data!'\n",
      "What city data would you like to explore?\n",
      " Select one from the ['chicago', 'new york city', 'washington']. chicago\n",
      "Ok! Do you want to see the data for all the months? Or \n",
      " Select One from ['january', 'february', 'march', 'april', 'may', 'june', 'all']. april\n",
      "Awesome! Now let's pick a day you want to check out the data for?\n",
      " Select One from ['monday', 'tuesday', 'wednesday', 'thursday', 'friday', 'saturday', 'sunday', 'all'].all\n",
      "chicago april all\n"
     ]
    }
   ],
   "source": [
    "city,month,day=get_filters()\n",
    "print(city,month,day)"
   ]
  },
  {
   "cell_type": "code",
   "execution_count": 1011,
   "id": "500cb919",
   "metadata": {},
   "outputs": [],
   "source": [
    "def load_data(city, month, day):\n",
    "    df=pd.read_csv(CITY_DATA[city])\n",
    "    df['Start Time']=pd.to_datetime(df['Start Time'])\n",
    "    df['Month']=df['Start Time'].dt.month\n",
    "    df['Day']=df['Start Time'].dt.day_name()\n",
    "    if month!='all':\n",
    "        month=MONTHS.index(month)+1\n",
    "        df=df[df['Month']==month]\n",
    "    \n",
    "    if day!='all':\n",
    "        df=df[df['Day']==day.title()]\n",
    "        \n",
    "    return df\n",
    "    \n"
   ]
  },
  {
   "cell_type": "code",
   "execution_count": 1012,
   "id": "7c18c927",
   "metadata": {
    "scrolled": true
   },
   "outputs": [],
   "source": [
    "df=load_data(city,month,day)\n"
   ]
  },
  {
   "cell_type": "code",
   "execution_count": null,
   "id": "d4e55e22",
   "metadata": {},
   "outputs": [],
   "source": []
  },
  {
   "cell_type": "code",
   "execution_count": 1013,
   "id": "b159d09d",
   "metadata": {},
   "outputs": [],
   "source": [
    "def time_stats(df):\n",
    "    \n",
    "    \"\"\"Displays statistics on the most frequent times of travel.\"\"\"\n",
    "\n",
    "    print('\\nCalculating The Most Frequent Times of Travel...\\n')\n",
    "    start_time = time.time()\n",
    "    df['Month']=df['Start Time'].dt.month_name()\n",
    "    common_month= df['Month'].mode()[0]\n",
    "    common_day= df['Day'].mode()[0]\n",
    "    df['hour']=df['Start Time'].dt.hour\n",
    "    common_hour= df['hour'].mode()[0]\n",
    "    \n",
    "    print(f\"The most common month is {common_month}.\")\n",
    "    print(f\"The most common day is {common_day}.\")\n",
    "    print(f\"The most common start hour is {common_hour}:00. \")\n",
    "    \n",
    "    \n",
    "    # display the most common month\n",
    "\n",
    "\n",
    "    # display the most common day of week\n",
    "\n",
    "\n",
    "    # display the most common start hour\n",
    "\n",
    "\n",
    "    print(\"\\nThis took %s seconds.\" % (time.time() - start_time))\n",
    "    print('-'*40)"
   ]
  },
  {
   "cell_type": "code",
   "execution_count": 1014,
   "id": "2070c6f3",
   "metadata": {},
   "outputs": [
    {
     "name": "stdout",
     "output_type": "stream",
     "text": [
      "\n",
      "Calculating The Most Frequent Times of Travel...\n",
      "\n",
      "The most common month is April.\n",
      "The most common day is Saturday.\n",
      "The most common start hour is 17:00. \n",
      "\n",
      "This took 0.09316468238830566 seconds.\n",
      "----------------------------------------\n"
     ]
    }
   ],
   "source": [
    "time_stats(df)"
   ]
  },
  {
   "cell_type": "code",
   "execution_count": null,
   "id": "4a8f1246",
   "metadata": {},
   "outputs": [],
   "source": []
  },
  {
   "cell_type": "code",
   "execution_count": 1015,
   "id": "16b7c4a0",
   "metadata": {},
   "outputs": [],
   "source": [
    "def station_stats(df):\n",
    "    \"\"\"Displays statistics on the most popular stations and trip.\"\"\"\n",
    "\n",
    "    print('\\nCalculating The Most Popular Stations and Trip...\\n')\n",
    "    start_time = time.time()\n",
    "    \n",
    "    common_start_station= df['Start Station'].mode()[0]\n",
    "    common_end_station=df['End Station'].mode()[0]\n",
    "    frequent_combination=df.groupby(['Start Station','End Station']).size().idxmax()\n",
    "    \n",
    "    print(f'The most common start station is {common_start_station}.')\n",
    "    print(f'The most common end station is {common_end_station}.')\n",
    "    print(f'The most frequent route is {frequent_combination}.')\n",
    "          \n",
    "\n",
    "    # TO DO: display most commonly used start station\n",
    "\n",
    "\n",
    "    # TO DO: display most commonly used end station\n",
    "\n",
    "\n",
    "    # TO DO: display most frequent combination of start station and end station trip\n",
    "\n",
    "\n",
    "    print(\"\\nThis took %s seconds.\" % (time.time() - start_time))\n",
    "    print('-'*40)\n"
   ]
  },
  {
   "cell_type": "code",
   "execution_count": 1016,
   "id": "e1389324",
   "metadata": {
    "scrolled": true
   },
   "outputs": [
    {
     "name": "stdout",
     "output_type": "stream",
     "text": [
      "\n",
      "Calculating The Most Popular Stations and Trip...\n",
      "\n",
      "The most common start station is Streeter Dr & Grand Ave.\n",
      "The most common end station is Streeter Dr & Grand Ave.\n",
      "The most frequent route is ('Lake Shore Dr & Monroe St', 'Streeter Dr & Grand Ave').\n",
      "\n",
      "This took 0.050987958908081055 seconds.\n",
      "----------------------------------------\n"
     ]
    }
   ],
   "source": [
    "station_stats(df)"
   ]
  },
  {
   "cell_type": "code",
   "execution_count": null,
   "id": "5652b697",
   "metadata": {},
   "outputs": [],
   "source": []
  },
  {
   "cell_type": "code",
   "execution_count": 1017,
   "id": "ebe45d4a",
   "metadata": {},
   "outputs": [],
   "source": [
    "def trip_duration_stats(df):\n",
    "    \"\"\"Displays statistics on the total and average trip duration.\"\"\"\n",
    "\n",
    "    print('\\nCalculating Trip Duration...\\n')\n",
    "    start_time = time.time()\n",
    "    \n",
    "    total_travel_time=df['Trip Duration'].sum()\n",
    "    mean_travel_time=df['Trip Duration'].mean()\n",
    "    \n",
    "    \n",
    "    print(f'Total travel time is {total_travel_time}.')\n",
    "    print(f'Mean travel time is {mean_travel_time}.')\n",
    "\n",
    "   \n",
    "\n",
    "    # TO DO: display total travel time\n",
    "\n",
    "\n",
    "    # TO DO: display mean travel time\n",
    "\n",
    "\n",
    "    print(\"\\nThis took %s seconds.\" % (time.time() - start_time))\n",
    "    print('-'*40)\n",
    "\n"
   ]
  },
  {
   "cell_type": "code",
   "execution_count": 1018,
   "id": "15987548",
   "metadata": {
    "scrolled": true
   },
   "outputs": [
    {
     "name": "stdout",
     "output_type": "stream",
     "text": [
      "\n",
      "Calculating Trip Duration...\n",
      "\n",
      "Total travel time is 50699234.\n",
      "Mean travel time is 981.4211270059428.\n",
      "\n",
      "This took 0.0012469291687011719 seconds.\n",
      "----------------------------------------\n"
     ]
    }
   ],
   "source": [
    "trip_duration_stats(df)"
   ]
  },
  {
   "cell_type": "code",
   "execution_count": null,
   "id": "b1c1fec5",
   "metadata": {},
   "outputs": [],
   "source": []
  },
  {
   "cell_type": "code",
   "execution_count": 1019,
   "id": "ab06666d",
   "metadata": {},
   "outputs": [],
   "source": [
    "def user_stats(df):\n",
    "    \"\"\"Displays statistics on bikeshare users.\"\"\"\n",
    "\n",
    "    print('\\nCalculating User Stats...\\n')\n",
    "    start_time = time.time()\n",
    "    \n",
    "    user_types=df['User Type'].value_counts()\n",
    "    print(f'Count of user types are below:\\n{user_types}')\n",
    "    print('_'*20)\n",
    "    \n",
    "    if 'Gender' in df.columns and 'Birth Year' in df.columns:\n",
    "        \n",
    "        \n",
    "   # while city!='washington':\n",
    "        gender_count=df['Gender'].value_counts()\n",
    "        earliest_birth_year=df['Birth Year'].min()\n",
    "        recent_birth_year=df['Birth Year'].max()\n",
    "        common_birth_year=df['Birth Year'].mode()[0]\n",
    "        \n",
    "        print(f'Gender count is below:\\n {gender_count}')\n",
    "        print('_'*20)\n",
    "        print(f'The earliest birth year is {earliest_birth_year}.')\n",
    "        print('_'*20)\n",
    "        print(f'The most recent birth year is {recent_birth_year}.')\n",
    "        print('_'*20)\n",
    "        print(f'The most common year of birth is {common_birth_year}')\n",
    "\n",
    "    print(\"\\nThis took %s seconds.\" % (time.time() - start_time))\n",
    "    print('-'*40)\n"
   ]
  },
  {
   "cell_type": "code",
   "execution_count": 1020,
   "id": "d6628039",
   "metadata": {
    "scrolled": false
   },
   "outputs": [
    {
     "name": "stdout",
     "output_type": "stream",
     "text": [
      "\n",
      "Calculating User Stats...\n",
      "\n",
      "Count of user types are below:\n",
      "Subscriber    39829\n",
      "Customer      11830\n",
      "Name: User Type, dtype: int64\n",
      "____________________\n",
      "Gender count is below:\n",
      " Male      30250\n",
      "Female     9585\n",
      "Name: Gender, dtype: int64\n",
      "____________________\n",
      "The earliest birth year is 1899.0.\n",
      "____________________\n",
      "The most recent birth year is 2016.0.\n",
      "____________________\n",
      "The most common year of birth is 1989.0\n",
      "\n",
      "This took 0.023096084594726562 seconds.\n",
      "----------------------------------------\n"
     ]
    }
   ],
   "source": [
    "user_stats(df)"
   ]
  },
  {
   "cell_type": "code",
   "execution_count": null,
   "id": "0ee1b3c3",
   "metadata": {},
   "outputs": [],
   "source": []
  },
  {
   "cell_type": "code",
   "execution_count": 1021,
   "id": "f47a1dcf",
   "metadata": {},
   "outputs": [],
   "source": [
    "def show_more_data(df):\n",
    "    \n",
    "    i=0\n",
    "    USER_INPUT=('yes','no')\n",
    "    \n",
    "    \n",
    "    while True:\n",
    "        user_input_1=input('Do you want to see 5 more data rows?\\n Please select \\'yes\\' or \\'no\\':').lower()\n",
    "        if user_input_1=='no':\n",
    "            print('Thank you for visiting my page! Come again soon :)')\n",
    "        \n",
    "            break\n",
    "            \n",
    "        elif user_input_1 not in USER_INPUT:\n",
    "            \n",
    "            print(\"Please select from the available options\")\n",
    "        \n",
    "        else:            \n",
    "            \n",
    "            print(df.iloc[i:i+5:])\n",
    "            i+=5\n",
    "            \n",
    "            \n",
    "            \n",
    "    \n",
    "    \n",
    "   \n",
    "    \n",
    "        \n",
    "        \n",
    "        \n",
    "    \n",
    "    "
   ]
  },
  {
   "cell_type": "code",
   "execution_count": 1022,
   "id": "60357d83",
   "metadata": {
    "scrolled": true
   },
   "outputs": [
    {
     "name": "stdout",
     "output_type": "stream",
     "text": [
      "the value of I is0\n",
      "Do you want to see 5 more data rows?\n",
      " Please select 'yes' or 'no':yes\n",
      "    Unnamed: 0          Start Time             End Time  Trip Duration  \\\n",
      "8       606841 2017-04-20 16:08:51  2017-04-20 16:20:20            689   \n",
      "14      611000 2017-04-20 19:26:33  2017-04-20 19:35:08            515   \n",
      "19      475456 2017-04-08 11:37:55  2017-04-08 11:51:55            840   \n",
      "28      512692 2017-04-11 18:49:57  2017-04-11 18:59:36            579   \n",
      "41      601870 2017-04-20 07:47:23  2017-04-20 08:03:35            972   \n",
      "\n",
      "                 Start Station                          End Station  \\\n",
      "8       Sedgwick St & Huron St        Halsted St & Blackhawk St (*)   \n",
      "14       Canal St & Madison St      Racine Ave (May St) & Fulton St   \n",
      "19           Adler Planetarium                       Burnham Harbor   \n",
      "28        Clinton St & Lake St  Mies van der Rohe Way & Chestnut St   \n",
      "41  Indiana Ave & Roosevelt Rd            Wacker Dr & Washington St   \n",
      "\n",
      "     User Type Gender  Birth Year  Month       Day  hour  \n",
      "8   Subscriber   Male      1984.0  April  Thursday    16  \n",
      "14  Subscriber   Male      1984.0  April  Thursday    19  \n",
      "19    Customer    NaN         NaN  April  Saturday    11  \n",
      "28  Subscriber   Male      1989.0  April   Tuesday    18  \n",
      "41  Subscriber   Male      1992.0  April  Thursday     7  \n",
      "the value of I is5\n",
      "Do you want to see 5 more data rows?\n",
      " Please select 'yes' or 'no':yes\n",
      "    Unnamed: 0          Start Time             End Time  Trip Duration  \\\n",
      "46      461905 2017-04-06 14:58:44  2017-04-06 15:04:26            342   \n",
      "50      629006 2017-04-22 19:12:25  2017-04-22 19:15:41            196   \n",
      "57      697597 2017-04-29 09:46:00  2017-04-29 10:14:37           1717   \n",
      "62      462221 2017-04-06 15:54:54  2017-04-06 16:00:06            312   \n",
      "64      445106 2017-04-03 06:31:20  2017-04-03 06:43:33            733   \n",
      "\n",
      "                   Start Station                   End Station   User Type  \\\n",
      "46       Franklin St & Monroe St  Michigan Ave & Washington St  Subscriber   \n",
      "50     Clark St & Wellington Ave    Halsted St & Diversey Pkwy  Subscriber   \n",
      "57            Clark St & Lake St     Ashland Ave & Division St  Subscriber   \n",
      "62      McClurg Ct & Illinois St        State St & Randolph St  Subscriber   \n",
      "64  Clinton St & Washington Blvd     Halsted St & Roosevelt Rd  Subscriber   \n",
      "\n",
      "    Gender  Birth Year  Month       Day  hour  \n",
      "46    Male      1980.0  April  Thursday    14  \n",
      "50    Male      1988.0  April  Saturday    19  \n",
      "57  Female      1986.0  April  Saturday     9  \n",
      "62  Female      1984.0  April  Thursday    15  \n",
      "64    Male      1966.0  April    Monday     6  \n",
      "the value of I is10\n",
      "Do you want to see 5 more data rows?\n",
      " Please select 'yes' or 'no':yes\n",
      "    Unnamed: 0          Start Time             End Time  Trip Duration  \\\n",
      "67      468745 2017-04-07 13:38:53  2017-04-07 13:44:05            312   \n",
      "71      527768 2017-04-13 17:37:27  2017-04-13 17:59:29           1322   \n",
      "85      635646 2017-04-23 14:28:35  2017-04-23 15:00:52           1937   \n",
      "87      620450 2017-04-21 19:13:20  2017-04-21 19:25:37            737   \n",
      "88      591507 2017-04-18 21:23:07  2017-04-18 21:50:43           1656   \n",
      "\n",
      "                   Start Station                        End Station  \\\n",
      "67     Southport Ave & Roscoe St           Wilton Ave & Belmont Ave   \n",
      "71     Desplaines St & Kinzie St  Sangamon St & Washington Blvd (*)   \n",
      "85                Dusable Harbor             Clark St & Schiller St   \n",
      "87       Aberdeen St & Monroe St            Carpenter St & Huron St   \n",
      "88  Sheffield Ave & Waveland Ave                  Clark St & Elm St   \n",
      "\n",
      "     User Type  Gender  Birth Year  Month       Day  hour  \n",
      "67  Subscriber    Male      1989.0  April    Friday    13  \n",
      "71  Subscriber  Female      1978.0  April  Thursday    17  \n",
      "85    Customer     NaN         NaN  April    Sunday    14  \n",
      "87  Subscriber    Male      1986.0  April    Friday    19  \n",
      "88  Subscriber  Female      1989.0  April   Tuesday    21  \n",
      "the value of I is15\n",
      "Do you want to see 5 more data rows?\n",
      " Please select 'yes' or 'no':nom\n",
      "Please select from the available options\n",
      "the value of I is15\n",
      "Do you want to see 5 more data rows?\n",
      " Please select 'yes' or 'no':no\n",
      "Thank you for visiting my page! Come again soon :)\n"
     ]
    }
   ],
   "source": [
    "show_more_data(df)"
   ]
  },
  {
   "cell_type": "code",
   "execution_count": null,
   "id": "fb05d4db",
   "metadata": {},
   "outputs": [],
   "source": []
  },
  {
   "cell_type": "code",
   "execution_count": null,
   "id": "d6c33242",
   "metadata": {},
   "outputs": [],
   "source": []
  },
  {
   "cell_type": "code",
   "execution_count": null,
   "id": "1ad472a2",
   "metadata": {},
   "outputs": [],
   "source": []
  },
  {
   "cell_type": "code",
   "execution_count": 544,
   "id": "07e8d5f2",
   "metadata": {},
   "outputs": [
    {
     "name": "stdout",
     "output_type": "stream",
     "text": [
      "Hello! Let's explore some US Bikeshare data!'\n",
      "What city data would you like to explore?\n",
      " Select one from the ['chicago', 'new york city', 'washington']. chicago\n",
      "Ok! Do you want to see the data for all the months? Or \n",
      " Select One from ['january', 'february', 'march', 'april', 'may', 'june', 'all']. all\n",
      "Awesome! Now let's pick a day you want to check out the data for?\n",
      " Select One from ['monday', 'tuesday', 'wednesday', 'thursday', 'friday', 'saturday', 'sunday', 'all'].all\n",
      "   Unnamed: 0          Start Time             End Time  Trip Duration  \\\n",
      "0     1423854 2017-06-23 15:09:32  2017-06-23 15:14:53            321   \n",
      "1      955915 2017-05-25 18:19:03  2017-05-25 18:45:53           1610   \n",
      "2        9031 2017-01-04 08:27:49  2017-01-04 08:34:45            416   \n",
      "3      304487 2017-03-06 13:49:38  2017-03-06 13:55:28            350   \n",
      "4       45207 2017-01-17 14:53:07  2017-01-17 15:02:01            534   \n",
      "\n",
      "                   Start Station                   End Station   User Type  \\\n",
      "0           Wood St & Hubbard St       Damen Ave & Chicago Ave  Subscriber   \n",
      "1            Theater on the Lake  Sheffield Ave & Waveland Ave  Subscriber   \n",
      "2             May St & Taylor St           Wood St & Taylor St  Subscriber   \n",
      "3  Christiana Ave & Lawrence Ave  St. Louis Ave & Balmoral Ave  Subscriber   \n",
      "4         Clark St & Randolph St  Desplaines St & Jackson Blvd  Subscriber   \n",
      "\n",
      "   Gender  Birth Year  Month        Day  \n",
      "0    Male      1992.0      6     Friday  \n",
      "1  Female      1992.0      5   Thursday  \n",
      "2    Male      1981.0      1  Wednesday  \n",
      "3    Male      1986.0      3     Monday  \n",
      "4    Male      1975.0      1    Tuesday  \n",
      "\n",
      "Calculating The Most Frequent Times of Travel...\n",
      "\n",
      "The most common month is June.\n",
      "The most common day is Tuesday.\n",
      "The most common start hour is 17:00. \n",
      "\n",
      "This took 0.13769221305847168 seconds.\n",
      "----------------------------------------\n",
      "\n",
      "Calculating The Most Popular Stations and Trip...\n",
      "\n",
      "The most common start station is Streeter Dr & Grand Ave.\n",
      "The most common end station is Streeter Dr & Grand Ave.\n",
      "The most frequent route is ('Lake Shore Dr & Monroe St', 'Streeter Dr & Grand Ave').\n",
      "\n",
      "This took 0.12625479698181152 seconds.\n",
      "----------------------------------------\n",
      "\n",
      "Calculating Trip Duration...\n",
      "\n",
      "Total travel time is 280871787.\n",
      "Mean travel time is 936.23929.\n",
      "\n",
      "This took 0.001154184341430664 seconds.\n",
      "----------------------------------------\n",
      "\n",
      "Calculating User Stats...\n",
      "\n",
      "Count of user types are below:\n",
      "Subscriber    238889\n",
      "Customer       61110\n",
      "Dependent          1\n",
      "Name: User Type, dtype: int64\n",
      "____________________\n",
      "\n",
      "This took 0.02107095718383789 seconds.\n",
      "----------------------------------------\n"
     ]
    },
    {
     "ename": "KeyboardInterrupt",
     "evalue": "Interrupted by user",
     "output_type": "error",
     "traceback": [
      "\u001b[0;31m---------------------------------------------------------------------------\u001b[0m",
      "\u001b[0;31mKeyboardInterrupt\u001b[0m                         Traceback (most recent call last)",
      "Input \u001b[0;32mIn [544]\u001b[0m, in \u001b[0;36m<cell line: 15>\u001b[0;34m()\u001b[0m\n\u001b[1;32m     13\u001b[0m             \u001b[38;5;28;01mbreak\u001b[39;00m\n\u001b[1;32m     15\u001b[0m \u001b[38;5;28;01mif\u001b[39;00m \u001b[38;5;18m__name__\u001b[39m \u001b[38;5;241m==\u001b[39m \u001b[38;5;124m\"\u001b[39m\u001b[38;5;124m__main__\u001b[39m\u001b[38;5;124m\"\u001b[39m:\n\u001b[0;32m---> 16\u001b[0m \t\u001b[43mmain\u001b[49m\u001b[43m(\u001b[49m\u001b[43m)\u001b[49m\n",
      "Input \u001b[0;32mIn [544]\u001b[0m, in \u001b[0;36mmain\u001b[0;34m()\u001b[0m\n\u001b[1;32m      8\u001b[0m trip_duration_stats(df)\n\u001b[1;32m      9\u001b[0m user_stats(df)\n\u001b[0;32m---> 11\u001b[0m restart \u001b[38;5;241m=\u001b[39m \u001b[38;5;28;43minput\u001b[39;49m\u001b[43m(\u001b[49m\u001b[38;5;124;43m'\u001b[39;49m\u001b[38;5;130;43;01m\\n\u001b[39;49;00m\u001b[38;5;124;43mWould you like to restart? Enter yes or no.\u001b[39;49m\u001b[38;5;130;43;01m\\n\u001b[39;49;00m\u001b[38;5;124;43m'\u001b[39;49m\u001b[43m)\u001b[49m\n\u001b[1;32m     12\u001b[0m \u001b[38;5;28;01mif\u001b[39;00m restart\u001b[38;5;241m.\u001b[39mlower() \u001b[38;5;241m!=\u001b[39m \u001b[38;5;124m'\u001b[39m\u001b[38;5;124myes\u001b[39m\u001b[38;5;124m'\u001b[39m:\n\u001b[1;32m     13\u001b[0m     \u001b[38;5;28;01mbreak\u001b[39;00m\n",
      "File \u001b[0;32m~/opt/anaconda3/lib/python3.9/site-packages/ipykernel/kernelbase.py:1075\u001b[0m, in \u001b[0;36mKernel.raw_input\u001b[0;34m(self, prompt)\u001b[0m\n\u001b[1;32m   1071\u001b[0m \u001b[38;5;28;01mif\u001b[39;00m \u001b[38;5;129;01mnot\u001b[39;00m \u001b[38;5;28mself\u001b[39m\u001b[38;5;241m.\u001b[39m_allow_stdin:\n\u001b[1;32m   1072\u001b[0m     \u001b[38;5;28;01mraise\u001b[39;00m StdinNotImplementedError(\n\u001b[1;32m   1073\u001b[0m         \u001b[38;5;124m\"\u001b[39m\u001b[38;5;124mraw_input was called, but this frontend does not support input requests.\u001b[39m\u001b[38;5;124m\"\u001b[39m\n\u001b[1;32m   1074\u001b[0m     )\n\u001b[0;32m-> 1075\u001b[0m \u001b[38;5;28;01mreturn\u001b[39;00m \u001b[38;5;28;43mself\u001b[39;49m\u001b[38;5;241;43m.\u001b[39;49m\u001b[43m_input_request\u001b[49m\u001b[43m(\u001b[49m\n\u001b[1;32m   1076\u001b[0m \u001b[43m    \u001b[49m\u001b[38;5;28;43mstr\u001b[39;49m\u001b[43m(\u001b[49m\u001b[43mprompt\u001b[49m\u001b[43m)\u001b[49m\u001b[43m,\u001b[49m\n\u001b[1;32m   1077\u001b[0m \u001b[43m    \u001b[49m\u001b[38;5;28;43mself\u001b[39;49m\u001b[38;5;241;43m.\u001b[39;49m\u001b[43m_parent_ident\u001b[49m\u001b[43m[\u001b[49m\u001b[38;5;124;43m\"\u001b[39;49m\u001b[38;5;124;43mshell\u001b[39;49m\u001b[38;5;124;43m\"\u001b[39;49m\u001b[43m]\u001b[49m\u001b[43m,\u001b[49m\n\u001b[1;32m   1078\u001b[0m \u001b[43m    \u001b[49m\u001b[38;5;28;43mself\u001b[39;49m\u001b[38;5;241;43m.\u001b[39;49m\u001b[43mget_parent\u001b[49m\u001b[43m(\u001b[49m\u001b[38;5;124;43m\"\u001b[39;49m\u001b[38;5;124;43mshell\u001b[39;49m\u001b[38;5;124;43m\"\u001b[39;49m\u001b[43m)\u001b[49m\u001b[43m,\u001b[49m\n\u001b[1;32m   1079\u001b[0m \u001b[43m    \u001b[49m\u001b[43mpassword\u001b[49m\u001b[38;5;241;43m=\u001b[39;49m\u001b[38;5;28;43;01mFalse\u001b[39;49;00m\u001b[43m,\u001b[49m\n\u001b[1;32m   1080\u001b[0m \u001b[43m\u001b[49m\u001b[43m)\u001b[49m\n",
      "File \u001b[0;32m~/opt/anaconda3/lib/python3.9/site-packages/ipykernel/kernelbase.py:1120\u001b[0m, in \u001b[0;36mKernel._input_request\u001b[0;34m(self, prompt, ident, parent, password)\u001b[0m\n\u001b[1;32m   1117\u001b[0m             \u001b[38;5;28;01mbreak\u001b[39;00m\n\u001b[1;32m   1118\u001b[0m \u001b[38;5;28;01mexcept\u001b[39;00m \u001b[38;5;167;01mKeyboardInterrupt\u001b[39;00m:\n\u001b[1;32m   1119\u001b[0m     \u001b[38;5;66;03m# re-raise KeyboardInterrupt, to truncate traceback\u001b[39;00m\n\u001b[0;32m-> 1120\u001b[0m     \u001b[38;5;28;01mraise\u001b[39;00m \u001b[38;5;167;01mKeyboardInterrupt\u001b[39;00m(\u001b[38;5;124m\"\u001b[39m\u001b[38;5;124mInterrupted by user\u001b[39m\u001b[38;5;124m\"\u001b[39m) \u001b[38;5;28;01mfrom\u001b[39;00m \u001b[38;5;28mNone\u001b[39m\n\u001b[1;32m   1121\u001b[0m \u001b[38;5;28;01mexcept\u001b[39;00m \u001b[38;5;167;01mException\u001b[39;00m:\n\u001b[1;32m   1122\u001b[0m     \u001b[38;5;28mself\u001b[39m\u001b[38;5;241m.\u001b[39mlog\u001b[38;5;241m.\u001b[39mwarning(\u001b[38;5;124m\"\u001b[39m\u001b[38;5;124mInvalid Message:\u001b[39m\u001b[38;5;124m\"\u001b[39m, exc_info\u001b[38;5;241m=\u001b[39m\u001b[38;5;28;01mTrue\u001b[39;00m)\n",
      "\u001b[0;31mKeyboardInterrupt\u001b[0m: Interrupted by user"
     ]
    }
   ],
   "source": [
    "\"\"\"def main():\n",
    "    while True:\n",
    "        city, month, day = get_filters()\n",
    "        df=load_data(city,month,day)\n",
    "        print(df.head())\n",
    "        time_stats(df)\n",
    "        station_stats(df)\n",
    "        trip_duration_stats(df)\n",
    "        user_stats(df)\n",
    "\n",
    "        restart = input('\\nWould you like to restart? Enter yes or no.\\n')\n",
    "        if restart.lower() != 'yes':\n",
    "            break\n",
    "\n",
    "if __name__ == \"__main__\":\n",
    "\tmain()\"\"\"\n",
    "\n"
   ]
  },
  {
   "cell_type": "code",
   "execution_count": null,
   "id": "a0cf9c6e",
   "metadata": {},
   "outputs": [],
   "source": []
  },
  {
   "cell_type": "code",
   "execution_count": 1030,
   "id": "d68cdef5",
   "metadata": {},
   "outputs": [
    {
     "ename": "SyntaxError",
     "evalue": "invalid syntax (781069910.py, line 15)",
     "output_type": "error",
     "traceback": [
      "\u001b[0;36m  Input \u001b[0;32mIn [1030]\u001b[0;36m\u001b[0m\n\u001b[0;31m    else:\u001b[0m\n\u001b[0m    ^\u001b[0m\n\u001b[0;31mSyntaxError\u001b[0m\u001b[0;31m:\u001b[0m invalid syntax\n"
     ]
    }
   ],
   "source": [
    "## Your code should check if each number in the list is a prime number\n",
    "\n",
    "check_prime = [26, 39, 51, 53, 57, 79, 85]\n",
    "factor= 2\n",
    "\n",
    "\n",
    "for number in check_prime:\n",
    "    while True:\n",
    "        if factor<=number and number%factor!=0:\n",
    "            factor+=1\n",
    "            \n",
    "        elif factor<=number and number%factor==0:\n",
    "            print(\"{} IS not a prime number, because {} is a factor of {}\".format(number,factor,number)            \n",
    "        \n",
    "        else:\n",
    "            print (\"{} IS a prime number\".format(number))\n",
    "                  \n",
    "                  \n",
    "                  \n",
    "                  \n",
    "                  "
   ]
  },
  {
   "cell_type": "code",
   "execution_count": null,
   "id": "434bdbd0",
   "metadata": {},
   "outputs": [],
   "source": []
  },
  {
   "cell_type": "code",
   "execution_count": null,
   "id": "084ef997",
   "metadata": {},
   "outputs": [],
   "source": []
  },
  {
   "cell_type": "code",
   "execution_count": null,
   "id": "8391a846",
   "metadata": {},
   "outputs": [],
   "source": []
  },
  {
   "cell_type": "code",
   "execution_count": null,
   "id": "9590cf68",
   "metadata": {},
   "outputs": [],
   "source": []
  },
  {
   "cell_type": "code",
   "execution_count": null,
   "id": "e145eb6c",
   "metadata": {},
   "outputs": [],
   "source": []
  }
 ],
 "metadata": {
  "kernelspec": {
   "display_name": "Python 3 (ipykernel)",
   "language": "python",
   "name": "python3"
  },
  "language_info": {
   "codemirror_mode": {
    "name": "ipython",
    "version": 3
   },
   "file_extension": ".py",
   "mimetype": "text/x-python",
   "name": "python",
   "nbconvert_exporter": "python",
   "pygments_lexer": "ipython3",
   "version": "3.9.12"
  }
 },
 "nbformat": 4,
 "nbformat_minor": 5
}
